{
 "cells": [
  {
   "cell_type": "code",
   "execution_count": 3,
   "metadata": {},
   "outputs": [],
   "source": [
    "import json\n",
    "import psycopg2\n",
    "\n",
    "with open('./config.json') as f:\n",
    "    config = json.load(f)  # returns a dictionary"
   ]
  },
  {
   "cell_type": "code",
   "execution_count": 4,
   "metadata": {},
   "outputs": [
    {
     "data": {
      "text/plain": [
       "<connection object at 0x10bf7bbd0; dsn: 'user=quentin password=xxx dbname=crypto host=35.185.19.253 port=5432', closed: 0>"
      ]
     },
     "execution_count": 4,
     "metadata": {},
     "output_type": "execute_result"
    }
   ],
   "source": [
    "conn = psycopg2.connect(**config)\n",
    "# similar to psycopg2.connect(host=\"localhost\",database=\"db\", user=\"postgres\", password=\"postgres\")\n",
    "conn"
   ]
  },
  {
   "cell_type": "code",
   "execution_count": null,
   "metadata": {},
   "outputs": [],
   "source": [
    "# Command Line SSL connection \n",
    "\n",
    "# psql \"sslmode=verify-full sslrootcert=server-ca.pem \\\n",
    "#       sslcert=client-cert.pem sslkey=client-key.pem \\\n",
    "#       hostaddr=35.185.19.253 \\\n",
    "#       host=cryptogoats-arb:crytpo \\\n",
    "#       port=5432 \\\n",
    "#       user=cryptogoats dbname=crypto\"\n",
    "\n",
    "psql \"hostaddr=35.185.19.253 \\\n",
    "      port=5432 \\\n",
    "      user=quentin dbname=crypto\""
   ]
  },
  {
   "cell_type": "code",
   "execution_count": 11,
   "metadata": {},
   "outputs": [],
   "source": [
    "command_create = (\n",
    "        \"\"\"\n",
    "        CREATE TABLE prices (\n",
    "            timestamp timestamptz PRIMARY KEY,\n",
    "            exchange VARCHAR(255),\n",
    "            pair_base VARCHAR(10),\n",
    "            pair_quote VARCHAR(10),\n",
    "            exchange_timestamp timestamptz,\n",
    "            bids text,\n",
    "            asks text,\n",
    "            volume INTEGER\n",
    "        )\n",
    "        \"\"\")"
   ]
  },
  {
   "cell_type": "code",
   "execution_count": 12,
   "metadata": {},
   "outputs": [
    {
     "name": "stdout",
     "output_type": "stream",
     "text": [
      "<connection object at 0x10c5032d8; dsn: 'user=quentin password=xxx dbname=crypto host=35.185.19.253 port=5432', closed: 0>\n",
      "closing connection\n"
     ]
    }
   ],
   "source": [
    "conn = None\n",
    "try:\n",
    "    # connect to the PostgreSQL server\n",
    "    conn = psycopg2.connect(**config)\n",
    "    print(conn)\n",
    "    cur = conn.cursor()\n",
    "    cur.execute(command_create)\n",
    "#     for elem in cur:\n",
    "#         print(elem)\n",
    "#     cur.fetchall()\n",
    "    # commit the changes\n",
    "    conn.commit()\n",
    "except (Exception, psycopg2.DatabaseError) as error:\n",
    "    print(error)\n",
    "finally:\n",
    "    if conn is not None:\n",
    "        print(\"closing connection\")\n",
    "        conn.close()"
   ]
  },
  {
   "cell_type": "code",
   "execution_count": null,
   "metadata": {},
   "outputs": [],
   "source": []
  },
  {
   "cell_type": "code",
   "execution_count": null,
   "metadata": {},
   "outputs": [],
   "source": []
  },
  {
   "cell_type": "code",
   "execution_count": null,
   "metadata": {},
   "outputs": [],
   "source": []
  },
  {
   "cell_type": "code",
   "execution_count": null,
   "metadata": {},
   "outputs": [],
   "source": []
  },
  {
   "cell_type": "code",
   "execution_count": null,
   "metadata": {},
   "outputs": [],
   "source": []
  }
 ],
 "metadata": {
  "kernelspec": {
   "display_name": "Python 3",
   "language": "python",
   "name": "python3"
  },
  "language_info": {
   "codemirror_mode": {
    "name": "ipython",
    "version": 3
   },
   "file_extension": ".py",
   "mimetype": "text/x-python",
   "name": "python",
   "nbconvert_exporter": "python",
   "pygments_lexer": "ipython3",
   "version": "3.6.3"
  }
 },
 "nbformat": 4,
 "nbformat_minor": 2
}
